{
 "cells": [
  {
   "cell_type": "code",
   "execution_count": 1,
   "metadata": {
    "collapsed": false
   },
   "outputs": [
    {
     "ename": "ImportError",
     "evalue": "No module named pyMS.centroid_detection",
     "output_type": "error",
     "traceback": [
      "\u001b[1;31m---------------------------------------------------------------------------\u001b[0m",
      "\u001b[1;31mImportError\u001b[0m                               Traceback (most recent call last)",
      "\u001b[1;32m<ipython-input-1-16bfeb744b71>\u001b[0m in \u001b[0;36m<module>\u001b[1;34m()\u001b[0m\n\u001b[0;32m      3\u001b[0m \u001b[1;32mimport\u001b[0m \u001b[0msys\u001b[0m\u001b[1;33m\u001b[0m\u001b[0m\n\u001b[0;32m      4\u001b[0m \u001b[0msys\u001b[0m\u001b[1;33m.\u001b[0m\u001b[0mpath\u001b[0m\u001b[1;33m.\u001b[0m\u001b[0mappend\u001b[0m\u001b[1;33m(\u001b[0m\u001b[1;34m'/Users/palmer/Documents/python_codebase/'\u001b[0m\u001b[1;33m)\u001b[0m\u001b[1;33m\u001b[0m\u001b[0m\n\u001b[1;32m----> 5\u001b[1;33m \u001b[1;32mfrom\u001b[0m \u001b[0mpyMS\u001b[0m\u001b[1;33m.\u001b[0m\u001b[0mcentroid_detection\u001b[0m \u001b[1;32mimport\u001b[0m \u001b[0mgradient\u001b[0m\u001b[1;33m\u001b[0m\u001b[0m\n\u001b[0m\u001b[0;32m      6\u001b[0m \u001b[1;32mfrom\u001b[0m \u001b[0mpyImagingMSpec\u001b[0m\u001b[1;33m.\u001b[0m\u001b[0mhdf5\u001b[0m\u001b[1;33m.\u001b[0m\u001b[0minMemoryIMS_hdf5\u001b[0m \u001b[1;32mimport\u001b[0m \u001b[0minMemoryIMS_hdf5\u001b[0m\u001b[1;33m\u001b[0m\u001b[0m\n\u001b[0;32m      7\u001b[0m \u001b[1;32mfrom\u001b[0m \u001b[0mpyImagingMSpec\u001b[0m\u001b[1;33m.\u001b[0m\u001b[0mimage_measures\u001b[0m \u001b[1;32mimport\u001b[0m \u001b[0mlevel_sets_measure\u001b[0m\u001b[1;33m\u001b[0m\u001b[0m\n",
      "\u001b[1;31mImportError\u001b[0m: No module named pyMS.centroid_detection"
     ]
    }
   ],
   "source": [
    "%load_ext autoreload\n",
    "%autoreload 2\n",
    "import sys\n",
    "sys.path.append('/Users/palmer/Documents/python_codebase/')\n",
    "from pyMSpec.centroid_detection import gradient\n",
    "from pyImagingMSpec import inMemoryIMS\n",
    "from pyImagingMSpec.image_measures import level_sets_measure\n",
    "import matplotlib.pyplot as plt\n",
    "import numpy as np\n",
    "%matplotlib inline\n",
    "import bokeh as bk\n",
    "from bokeh.plotting import output_notebook \n",
    "output_notebook()"
   ]
  },
  {
   "cell_type": "code",
   "execution_count": null,
   "metadata": {
    "collapsed": false
   },
   "outputs": [],
   "source": [
    "filename_in =  '//home/palmer/Documents/tmp_data/URenn/MB/Brain01_Bregma1-42/regions - no normalization.imzML' #using a temporary hdf5 based format\n",
    "save_dir='/home/palmer/Documents/tmp_data/URenn/MB/Brain01_Bregma1-42/autogen/'\n",
    "\n",
    "# Parse data\n",
    "IMS_dataset=inMemoryIMS(filename_in, mode='')\n",
    "ppm = 0.75"
   ]
  },
  {
   "cell_type": "code",
   "execution_count": null,
   "metadata": {
    "collapsed": false
   },
   "outputs": [],
   "source": [
    "# Generate mean spectrum\n",
    "#hist_axis,mean_spec =IMS_dataset.generate_summary_spectrum(summary_type='mean')\n",
    "hist_axis,freq_spec =IMS_dataset.generate_summary_spectrum(summary_type='freq',ppm=ppm/2)"
   ]
  },
  {
   "cell_type": "code",
   "execution_count": null,
   "metadata": {
    "collapsed": false,
    "scrolled": false
   },
   "outputs": [],
   "source": [
    "#p1 = bk.plotting.figure()\n",
    "#p1.line(hist_axis,mean_spec/np.max(mean_spec),color='red')\n",
    "#p1.line(hist_axis,freq_spec/np.max(freq_spec),color='orange')\n",
    "#bk.plotting.show(p1)\n",
    "print len(hist_axis)\n",
    "plt.figure(figsize=(20,10))\n",
    "plt.plot(hist_axis,freq_spec)\n",
    "plt.show()"
   ]
  },
  {
   "cell_type": "code",
   "execution_count": null,
   "metadata": {
    "collapsed": false
   },
   "outputs": [],
   "source": [
    "# Centroid detection of frequency spectrum\n",
    "mz_list,count_list,idx_list = gradient(np.asarray(hist_axis),np.asarray(freq_spec),weighted_bins=2)"
   ]
  },
  {
   "cell_type": "code",
   "execution_count": null,
   "metadata": {
    "collapsed": false
   },
   "outputs": [],
   "source": [
    "c_thresh=0.05\n",
    "moc_thresh=0.99\n",
    "print np.sum(count_list>c_thresh)"
   ]
  },
  {
   "cell_type": "code",
   "execution_count": null,
   "metadata": {
    "collapsed": false
   },
   "outputs": [],
   "source": [
    "# Calcualte MoC for images of all peaks\n",
    "nlevels=30\n",
    "im_list={}\n",
    "for ii, c in enumerate(count_list):\n",
    "    if c>c_thresh:\n",
    "        ion_image = IMS_dataset.get_ion_image(np.asarray([mz_list[ii],]),ppm)\n",
    "        im=ion_image.xic_to_image(0)\n",
    "        m,im_moc,levels,nobjs = level_sets_measure.measure_of_chaos(im,nlevels,interp='median') #just output measure value\n",
    "        m=1-m\n",
    "        im_list[mz_list[ii]]={'image':im,'moc':m,'freq':c}"
   ]
  },
  {
   "cell_type": "code",
   "execution_count": null,
   "metadata": {
    "collapsed": true
   },
   "outputs": [],
   "source": [
    "from pySpatialMetabolomics.tools import colourmaps\n",
    "c_map = colourmaps.get_colormap('vidris')#if black images: open->save->rerun\n",
    "c_pal=[[int(255*cc) for cc in c_map(c)] for c in range(0,254)]"
   ]
  },
  {
   "cell_type": "code",
   "execution_count": null,
   "metadata": {
    "collapsed": false
   },
   "outputs": [],
   "source": [
    "# Export all images\n",
    "import png as pypng\n",
    "for mz in im_list:\n",
    "    if im_list[mz]['moc']>moc_thresh:\n",
    "        with open('{}/{}_{}.png'.format(save_dir,mz,im_list[mz]['moc']),'wb') as f_out:\n",
    "            im_out = im_list[mz]['image']\n",
    "            im_out = 254*im_out/np.max(im_out)\n",
    "            w,h = np.shape(im_out)\n",
    "            w = pypng.Writer(h, w, palette=c_pal, bitdepth=8)\n",
    "            w.write(f_out,im_out)\n"
   ]
  },
  {
   "cell_type": "code",
   "execution_count": null,
   "metadata": {
    "collapsed": false
   },
   "outputs": [],
   "source": [
    "\n"
   ]
  },
  {
   "cell_type": "code",
   "execution_count": null,
   "metadata": {
    "collapsed": false
   },
   "outputs": [],
   "source": [
    "#im_out = im_list[mz]['image']\n",
    "mz=333.334188269\n",
    "ion_image = IMS_dataset.get_ion_image(np.asarray([mz,]),ppm)\n",
    "im_out=ion_image.xic_to_image(0)\n",
    "m,im_moc,levels,nobjs = level_sets_measure.measure_of_chaos(im,nlevels,interp='') #just output measure value\n",
    "print 1-m\n",
    "im_out = 254.*im_out/np.max(im_out)\n",
    "print mz\n",
    "#print im_list[mz]['moc']\n",
    "plt.figure()\n",
    "plt.imshow(im_moc)\n",
    "plt.show()"
   ]
  },
  {
   "cell_type": "code",
   "execution_count": null,
   "metadata": {
    "collapsed": true
   },
   "outputs": [],
   "source": []
  },
  {
   "cell_type": "code",
   "execution_count": null,
   "metadata": {
    "collapsed": true
   },
   "outputs": [],
   "source": []
  }
 ],
 "metadata": {
  "kernelspec": {
   "display_name": "Python 2",
   "language": "python",
   "name": "python2"
  },
  "language_info": {
   "codemirror_mode": {
    "name": "ipython",
    "version": 2
   },
   "file_extension": ".py",
   "mimetype": "text/x-python",
   "name": "python",
   "nbconvert_exporter": "python",
   "pygments_lexer": "ipython2",
   "version": "2.7.6"
  }
 },
 "nbformat": 4,
 "nbformat_minor": 0
}
