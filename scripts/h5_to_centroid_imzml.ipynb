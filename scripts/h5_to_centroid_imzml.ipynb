{
 "cells": [
  {
   "cell_type": "code",
   "execution_count": 1,
   "metadata": {
    "collapsed": false
   },
   "outputs": [
    {
     "name": "stdout",
     "output_type": "stream",
     "text": [
      "/Users/palmer/Documents/tmp_data/spheroids/14037s1_Spheroids24h_DHBSub.h5 True\n",
      "dim:  39 x 34\n",
      "finished!\n",
      "/Users/palmer/Documents/tmp_data/spheroids/14040s1_Spheroids12h_DHBSub.h5 True\n",
      "dim:  53 x 56\n",
      "[/Users/palmer/Documents/tmp_data/spheroids/14040s1_Spheroids12h_DHBSub.h5] progress: 34.9%\n",
      "[/Users/palmer/Documents/tmp_data/spheroids/14040s1_Spheroids12h_DHBSub.h5] progress: 69.9%\n",
      "finished!\n",
      "/Users/palmer/Documents/tmp_data/spheroids/Spheroids_sublimation_6h.h5 True\n",
      "dim:  38 x 44\n",
      "[/Users/palmer/Documents/tmp_data/spheroids/Spheroids_sublimation_6h.h5] progress: 74.7%\n",
      "finished!\n",
      "/Users/palmer/Documents/tmp_data/spheroids/Ctrl3s2_SpheroidsCtrl_DHBSub.h5 True\n",
      "dim:  51 x 49\n",
      "[/Users/palmer/Documents/tmp_data/spheroids/Ctrl3s2_SpheroidsCtrl_DHBSub.h5] progress: 40.1%\n",
      "[/Users/palmer/Documents/tmp_data/spheroids/Ctrl3s2_SpheroidsCtrl_DHBSub.h5] progress: 80.3%\n",
      "finished!\n"
     ]
    },
    {
     "name": "stderr",
     "output_type": "stream",
     "text": [
      "/usr/local/lib/python2.7/site-packages/numpy/core/_methods.py:59: RuntimeWarning: Mean of empty slice.\n",
      "  warnings.warn(\"Mean of empty slice.\", RuntimeWarning)\n",
      "/usr/local/lib/python2.7/site-packages/numpy/core/_methods.py:70: RuntimeWarning: invalid value encountered in double_scalars\n",
      "  ret = ret.dtype.type(ret / rcount)\n"
     ]
    }
   ],
   "source": [
    "%load_ext autoreload\n",
    "%autoreload 2\n",
    "import sys\n",
    "import os\n",
    "sys.path.append(\"/Users/palmer/Documents/python_codebase\")\n",
    "import pyIMS.convert.h5_to_imzml as h5_to_imzml\n",
    "\n",
    "filein=\"/Users/palmer/Documents/tmp_data/spheroids/batch\"\n",
    "out_dr = '/Users/palmer/Documents/tmp_data/spheroids/imzml'\n",
    "with open(filein,'r') as f:\n",
    "    for line in f.readlines():\n",
    "        fin = str(line).strip()\n",
    "        if fin.startswith(\"#\"):\n",
    "            continue\n",
    "        dr,ext = os.path.splitext(fin)\n",
    "        fn = os.path.splitext(os.path.basename(fin)[0])\n",
    "        fout = os.path.join(out_dr,fn+\"imzML\")\n",
    "        print fin     , os.path.exists(fin)\n",
    "        h5_to_imzml.centroidh5(fin,fout)"
   ]
  }
 ],
 "metadata": {
  "kernelspec": {
   "display_name": "Python 2",
   "language": "python",
   "name": "python2"
  },
  "language_info": {
   "codemirror_mode": {
    "name": "ipython",
    "version": 2
   },
   "file_extension": ".py",
   "mimetype": "text/x-python",
   "name": "python",
   "nbconvert_exporter": "python",
   "pygments_lexer": "ipython2",
   "version": "2.7.10"
  }
 },
 "nbformat": 4,
 "nbformat_minor": 0
}
